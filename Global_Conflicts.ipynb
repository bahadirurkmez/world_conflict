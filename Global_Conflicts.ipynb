{
 "cells": [
  {
   "cell_type": "markdown",
   "source": [
    "### Analyzing the Data From:Uppsala Conflict Data Program - Department of Peace and Conflict Research"
   ],
   "metadata": {}
  },
  {
   "cell_type": "markdown",
   "source": [
    "Data used in this project obtained from: https://ucdp.uu.se/downloads/index.html#ged_global"
   ],
   "metadata": {}
  },
  {
   "cell_type": "markdown",
   "source": [
    "• Pettersson, Therese, Shawn Davis, Amber Deniz, Garoun Engström, Nanar Hawach, Stina Högbladh, Margareta Sollenberg & Magnus Öberg (2021). Organized violence 1989-2020, with a special emphasis on Syria. Journal of Peace Research 58(4).\n",
    "\n",
    "• Sundberg, Ralph and Erik Melander (2013) Introducing the UCDP Georeferenced Event Dataset. Journal of Peace Research 50(4)."
   ],
   "metadata": {}
  },
  {
   "cell_type": "markdown",
   "source": [
    "###### necessary imports"
   ],
   "metadata": {}
  },
  {
   "cell_type": "code",
   "execution_count": 12,
   "source": [
    "import os\n",
    "import pandas as pd\n",
    "import datetime as dt\n",
    "import plotly.graph_objs as go\n",
    "from plotly.subplots import make_subplots\n",
    "from jupyter_dash import JupyterDash\n",
    "import dash_core_components as dcc\n",
    "import dash_html_components as html\n",
    "from dash.dependencies import Input, Output\n",
    "import dash_bootstrap_components as dbc"
   ],
   "outputs": [],
   "metadata": {}
  },
  {
   "cell_type": "markdown",
   "source": [
    "#### load data"
   ],
   "metadata": {}
  },
  {
   "cell_type": "code",
   "execution_count": 76,
   "source": [
    "filename = 'ged211.csv'\n",
    "if os.path.exists(filename):\n",
    "    df_raw = pd.read_csv(filename, low_memory=False, parse_dates= ['date_start', 'date_end'],encoding='utf-8-sig')"
   ],
   "outputs": [],
   "metadata": {}
  },
  {
   "cell_type": "markdown",
   "source": [
    "#### prepare data"
   ],
   "metadata": {}
  },
  {
   "cell_type": "code",
   "execution_count": 77,
   "source": [
    "earliest =df_raw['date_start'].min().strftime('%b %Y, %d')\n",
    "latest = df_raw['date_start'].max().strftime('%b %Y, %d')\n",
    "colnum = len(df_raw.columns)\n",
    "rownum = len(df_raw)\n",
    "df_raw['day']= df_raw['date_start'].dt.date\n",
    "df_raw['month'] = df_raw['date_start'].dt.strftime('%b')"
   ],
   "outputs": [],
   "metadata": {}
  },
  {
   "cell_type": "markdown",
   "source": [
    "#### some options we will reuse in application"
   ],
   "metadata": {}
  },
  {
   "cell_type": "code",
   "execution_count": 78,
   "source": [
    "reports = [\n",
    "    {'label':'Incidences per Year','value':0},\n",
    "    {'label':'Incidences by Region','value':1},\n",
    "    {'label':'HeatMap of Incidences','value':2}\n",
    "          ]"
   ],
   "outputs": [],
   "metadata": {}
  },
  {
   "cell_type": "code",
   "execution_count": 79,
   "source": [
    "styles = {\n",
    "    'dropdown' : {'fontSize': '0.8em','whiteSpace': 'nowrap', 'textOverflow': 'ellipsis'}    \n",
    "}"
   ],
   "outputs": [],
   "metadata": {}
  },
  {
   "cell_type": "code",
   "execution_count": 80,
   "source": [
    "regions = [{'label':i, 'value':i} for i in df_raw.region.unique()]\n",
    "regions.append({'label':'All Regions', 'value':'All Regions'})"
   ],
   "outputs": [],
   "metadata": {}
  },
  {
   "cell_type": "markdown",
   "source": [
    "#### functions"
   ],
   "metadata": {}
  },
  {
   "cell_type": "markdown",
   "source": [
    "###### this colorscale generator is downloaded from\n",
    "###### https://gist.github.com/gabri-al/0e1e56d2faeffc2d2b185474a707978a#file-heatmap-colorscale-generator\n",
    "###### by gabri-al"
   ],
   "metadata": {}
  },
  {
   "cell_type": "code",
   "execution_count": 81,
   "source": [
    "def colorscale_generator(n, starting_col = {'r' : 186, 'g' : 218, 'b' : 212}, finish_col = {'r' : 57, 'g' : 81, 'b' : 85}):\n",
    "    \"\"\"This function generate a colorscale between two given rgb extremes, for an amount of data points\n",
    "    The rgb should be specified as dictionaries\"\"\"\n",
    "    r = starting_col['r']\n",
    "    g = starting_col['g']\n",
    "    b = starting_col['b']\n",
    "    rf = finish_col['r']\n",
    "    gf = finish_col['g']\n",
    "    bf = finish_col['b']\n",
    "    ri = (rf - r) / n\n",
    "    gi = (gf - g) / n\n",
    "    bi = (bf - b) / n\n",
    "    color_i = 'rgb(' + str(r) +','+ str(g) +',' + str(b) + ')'\n",
    "    my_colorscale = []\n",
    "    my_colorscale.append(color_i)\n",
    "    for i in range(n):\n",
    "        r = r + ri\n",
    "        g = g + gi\n",
    "        b = b + bi\n",
    "        color = 'rgb(' + str(round(r)) +','+ str(round(g)) +',' + str(round(b)) + ')'\n",
    "        my_colorscale.append(color)\n",
    "\n",
    "    return my_colorscale"
   ],
   "outputs": [],
   "metadata": {}
  },
  {
   "cell_type": "code",
   "execution_count": 82,
   "source": [
    "colors = colorscale_generator(n=11)\n",
    "\n",
    "colorscale = [\n",
    "    [0.0, colors[0]],\n",
    "    [0.1, colors[1]],\n",
    "    [0.2, colors[2]],\n",
    "    [0.3, colors[3]],\n",
    "    [0.4, colors[4]],\n",
    "    [0.5, colors[5]],\n",
    "    [0.6, colors[6]],\n",
    "    [0.7, colors[7]],\n",
    "    [0.8, colors[8]],\n",
    "    [0.9, colors[9]],\n",
    "    [1.0, colors[10]]]"
   ],
   "outputs": [],
   "metadata": {}
  },
  {
   "cell_type": "code",
   "execution_count": 115,
   "source": [
    "### Return the data required to create the graph\n",
    "def get_graph_data(graphid, region):\n",
    "    df = None\n",
    "    df_filtered = df_raw[df_raw['region']== region] if region != 'All Regions' else df_raw\n",
    "    if graphid == 0: ## data for incidences per year\n",
    "        df = df_filtered.groupby(['year']).count()\n",
    "    elif graphid == 1: ## data for incidence numbers per country\n",
    "        df = df_filtered.groupby(['region']).count()\n",
    "        df.sort_values(by=['id'], inplace=True)\n",
    "    elif graphid == 2: ## data for month - year heat map \n",
    "        \n",
    "        dfx = df_filtered.groupby(['month', 'year']).count() # to create a dataframe \n",
    "        dfx.reset_index(inplace=True)\n",
    "        df = dfx[['month', 'year', 'id']]\n",
    "\n",
    "        cats = ['Jan', 'Feb', 'Mar', 'Apr','May','Jun', 'Jul', 'Aug','Sep', 'Oct', 'Nov', 'Dec']\n",
    "        df.index = pd.CategoricalIndex(df.month, categories=cats, ordered=True)\n",
    "        df = df.sort_index()\n",
    "        del dfx\n",
    "        \n",
    "    return df\n",
    "\n",
    "def get_fig(df, graphid):\n",
    "    \n",
    "    if graphid == 0: ## line scatter\n",
    "        fig = make_subplots(specs=[[{\"secondary_y\": True}]])\n",
    "        fig.add_trace(\n",
    "            go.Scatter(\n",
    "            x = df.index,\n",
    "            y = df['id'],\n",
    "            mode = 'markers+lines',\n",
    "            marker ={'color':'rgb(255,255,255)'},\n",
    "            line = {'shape': 'spline', 'smoothing': 0.8}\n",
    "            ),\n",
    "            secondary_y=False)\n",
    "        \n",
    "    \n",
    "        \n",
    "        fig.update_layout(\n",
    "            plot_bgcolor = 'rgba(107, 112, 92, 1)',\n",
    "            title=\"Incidences per Year\",\n",
    "            yaxis ={'title':'Total Number of Incidences'},\n",
    "            xaxis ={'title':'Year'})\n",
    "        \n",
    "    elif graphid == 1: ##region bar graph\n",
    "        data = go.Bar(\n",
    "        x = df['id'] ,\n",
    "        y = df.index,\n",
    "        orientation = 'h',\n",
    "        marker = {'color': colorscale_generator(10,{'r': 255, 'g': 230, 'b':214},{'r':200, 'g':153, 'b':126}),\n",
    "                'opacity' : 0.75})\n",
    "\n",
    "        fig = go.Figure(data=data)\n",
    "   \n",
    "        fig.update_layout(\n",
    "            title={'text' : 'Incidence by Region'},\n",
    "            plot_bgcolor = 'rgba(107, 112, 92, 1)',\n",
    "            xaxis = {'title' : \"Total Number of Incidences\", 'tickangle' : 315, 'showgrid' : True, 'gridwidth' : 0.5, },\n",
    "            yaxis = {'tickfont':{'size':10},'tickangle' : 315, 'showgrid' : False },\n",
    "            barmode = 'group',\n",
    "            showlegend = False)\n",
    "   \n",
    "    elif graphid == 2: ## heatmap figure generated here\n",
    "        # Build graph\n",
    "        hovertemplate = (\n",
    "        '<i>Year</i>: %{x}<br>'+\n",
    "        '<i>Month</i>: %{y}<br>'\n",
    "        '<i>Number of Incidences</i>: %{z}'+\n",
    "        '<extra></extra>') # Remove trace info\n",
    "        data = go.Heatmap(\n",
    "            x = df['year'],\n",
    "            y = df['month'],\n",
    "            z = df['id'],\n",
    "            hovertemplate = hovertemplate,\n",
    "            hoverongaps = False,\n",
    "            colorscale = colorscale,\n",
    "            showscale = True,\n",
    "            xgap = .5,\n",
    "            ygap = .5)\n",
    "        fig = go.Figure(data=data)\n",
    "        fig.update_layout(\n",
    "            title={'text' : 'HeatMap of Incidences By Month - Year'},\n",
    "            xaxis = {\n",
    "                'title' : \"Year\"},\n",
    "            yaxis = {\n",
    "                'title' : 'Month',\n",
    "                'showgrid' : False})\n",
    "        \n",
    "        \n",
    "    return fig"
   ],
   "outputs": [],
   "metadata": {}
  },
  {
   "cell_type": "code",
   "execution_count": 116,
   "source": [
    "# Build App\n",
    "app = JupyterDash(__name__, external_stylesheets=[dbc.themes.BOOTSTRAP])\n",
    "app.layout = html.Div([\n",
    "    html.H2(\"Uppsala Conflict Data Program\",  style={'textAlign':'center'}),\n",
    "    html.Hr(),\n",
    "    html.P('Data Summary: % s Columns and % s Rows between % s and % s ' % (f'{colnum:,}', f'{rownum:,}', \n",
    "                                            earliest,latest),\n",
    "            style={'textAlign':'center'}),\n",
    "    html.Div([\n",
    "        html.Div([\n",
    "            html.P('Please chose the graph:', style={'fontSize': '0.8em'}),\n",
    "            dcc.Dropdown(id='report_type',\n",
    "                         options=reports,\n",
    "                         value=reports[0]['value'],\n",
    "                         multi=False,\n",
    "                            style=styles['dropdown']),   \n",
    "        ], className='col-3'), \n",
    "             html.Div([\n",
    "            html.P('You can change date range:', style={'fontSize': '0.8em'}),\n",
    "            dcc.Dropdown(id='date_selector',\n",
    "                         options=reports,\n",
    "                         value=reports[0]['value'],\n",
    "                         multi=False,\n",
    "                            style=styles['dropdown']),   \n",
    "        ], className='col-3'),  \n",
    "             html.Div([\n",
    "            html.P('Region Selector:', style={'fontSize': '0.8em'}),\n",
    "            dcc.Dropdown(id='region_selector',\n",
    "                         options=regions,\n",
    "                         value=regions[-1]['value'],\n",
    "                         multi=False,\n",
    "                            style=styles['dropdown']),   \n",
    "        ], className='col-3', id='div_region_selector'),  \n",
    "             html.Div([\n",
    "            html.P('Choose conflict sides:', style={'fontSize': '0.8em'}),\n",
    "            dcc.Dropdown(id='side_selector',\n",
    "                         options=reports,\n",
    "                         value=reports[0]['value'],\n",
    "                         multi=False,\n",
    "                            style=styles['dropdown']),   \n",
    "        ], className='col-3'),  \n",
    "    ], className='row'),\n",
    "    html.Hr(),\n",
    "    html.Div([     \n",
    "        html.Div([\n",
    "            dcc.Graph(id='uppsala_graph')      \n",
    "                ], className='col-12') \n",
    "    ], className='row')\n",
    "    \n",
    "    \n",
    "])\n",
    "# Define callback to update graph\n",
    "@app.callback(\n",
    "    Output('uppsala_graph', 'figure'),\n",
    "    [\n",
    "    Input(\"report_type\", \"value\"),\n",
    "    Input(\"region_selector\", \"value\")]\n",
    ")\n",
    "def update_figure(report, region):\n",
    "    ## get data frame\n",
    "    df = get_graph_data(report, region)\n",
    "    return get_fig(df,report)\n",
    "        \n",
    "\n",
    "    \n",
    "# Disable region selector if report data shouldn't be\n",
    "# filtered by region\n",
    "@app.callback(\n",
    "    Output('div_region_selector','style'),\n",
    "    [\n",
    "    Input(\"report_type\", \"value\"),]\n",
    ")\n",
    "def update_figure(report):\n",
    "    \n",
    "    returnval = {'display' : 'none'} if report == 1 else {'display' : 'block'} \n",
    "    return returnval\n",
    "        \n",
    "    \n",
    "  \n",
    "    \n",
    "    \n",
    "    \n",
    "# Run app and display result inline in the notebook\n",
    "app.run_server(mode='inline')"
   ],
   "outputs": [
    {
     "output_type": "display_data",
     "data": {
      "text/html": [
       "\n",
       "        <iframe\n",
       "            width=\"100%\"\n",
       "            height=\"650\"\n",
       "            src=\"http://127.0.0.1:8050/\"\n",
       "            frameborder=\"0\"\n",
       "            allowfullscreen\n",
       "        ></iframe>\n",
       "        "
      ],
      "text/plain": [
       "<IPython.lib.display.IFrame at 0x11f7bde50>"
      ]
     },
     "metadata": {}
    }
   ],
   "metadata": {
    "scrolled": false
   }
  },
  {
   "cell_type": "code",
   "execution_count": null,
   "source": [],
   "outputs": [],
   "metadata": {
    "scrolled": true
   }
  }
 ],
 "metadata": {
  "kernelspec": {
   "display_name": "Python 3 (ipykernel)",
   "language": "python",
   "name": "python3"
  },
  "language_info": {
   "codemirror_mode": {
    "name": "ipython",
    "version": 3
   },
   "file_extension": ".py",
   "mimetype": "text/x-python",
   "name": "python",
   "nbconvert_exporter": "python",
   "pygments_lexer": "ipython3",
   "version": "3.9.6"
  }
 },
 "nbformat": 4,
 "nbformat_minor": 5
}